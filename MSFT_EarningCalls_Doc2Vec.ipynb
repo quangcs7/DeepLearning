{
 "cells": [
  {
   "cell_type": "code",
   "execution_count": 1,
   "metadata": {
    "collapsed": false,
    "scrolled": false
   },
   "outputs": [],
   "source": [
    "import os\n",
    "import gensim, logging\n",
    "logging.basicConfig(format='%(asctime)s : %(levelname)s : %(message)s', level=logging.INFO)\n",
    "\n",
    "import numpy as np\n",
    "from nltk.tokenize import RegexpTokenizer\n",
    "import nltk.data\n"
   ]
  },
  {
   "cell_type": "code",
   "execution_count": 12,
   "metadata": {
    "collapsed": false,
    "scrolled": false
   },
   "outputs": [
    {
     "data": {
      "text/plain": [
       "203965"
      ]
     },
     "execution_count": 12,
     "metadata": {},
     "output_type": "execute_result"
    }
   ],
   "source": [
    "model = gensim.models.Word2Vec(size=300, window=5, min_count=2, negative=20, workers=3)\n",
    "sentences = gensim.models.word2vec.LineSentence(\"datasets\\\\MSFT_Earning_Calls\\\\all_msft_earning_calls_punct\")\n",
    "model.build_vocab(sentences)\n",
    "# initalize with a pre-trained word2vec model\n",
    "model.intersect_word2vec_format('datasets\\word2vec\\\\GoogleNews-vectors-negative300.bin', binary=True)  # C binary format\n",
    "model.train(sentences)\n",
    "           "
   ]
  },
  {
   "cell_type": "code",
   "execution_count": 13,
   "metadata": {
    "collapsed": false,
    "scrolled": true
   },
   "outputs": [
    {
     "name": "stdout",
     "output_type": "stream",
     "text": [
      "Time taken for K Means clustering:  16.882999897 seconds.\n"
     ]
    }
   ],
   "source": [
    "#model.accuracy('datasets\\\\word2vec\\\\questions-words.txt')\n",
    "#model.most_similar(positive=['Xbox', 'Dynamics'], negative=['CRM'])\n",
    "\n",
    "#word clustering\n",
    "from sklearn.cluster import KMeans\n",
    "import time\n",
    "\n",
    "start = time.time() # Start time\n",
    "\n",
    "# Set \"k\" (num_clusters) to be 1/10th of the vocabulary size, or an average of 10 words per cluster\n",
    "word_vectors = model.syn0\n",
    "num_clusters = word_vectors.shape[0]/10\n",
    "\n",
    "# Initalize a k-means object and use it to extract centroids\n",
    "kmeans_clustering = KMeans( n_clusters = num_clusters )\n",
    "idx = kmeans_clustering.fit_predict( word_vectors )\n",
    "\n",
    "# Get the end time and print how long the process took\n",
    "end = time.time()\n",
    "elapsed = end - start\n",
    "print \"Time taken for K Means clustering: \", elapsed, \"seconds.\""
   ]
  },
  {
   "cell_type": "code",
   "execution_count": 14,
   "metadata": {
    "collapsed": false
   },
   "outputs": [
    {
     "name": "stdout",
     "output_type": "stream",
     "text": [
      "\n",
      "Cluster 0\n",
      "[u'equation']\n",
      "\n",
      "Cluster 1\n",
      "[u'little', u'plenty', u'lots', u'much', u'no', u'lack', u'many', u'lot', u'bit', u'ton', u'some', u'nothing', u'bunch']\n",
      "\n",
      "Cluster 2\n",
      "[u'above', u'reducing', u'shrink', u'reduced', u'moderate', u'low', u'peak', u'zero', u'lowering', u'reduce', u'higher', u'cut', u'lower', u'stabilized', u'high', u'measured', u'unchanged', u'lowered', u'below', u'normal']\n",
      "\n",
      "Cluster 3\n",
      "[u'principles', u'notion', u'theme', u'approach', u'logic', u'concept', u'values', u'views', u'formula', u'view', u'ideas', u'vision', u'style', u'philosophically', u'fundamental', u'framework', u'idea', u'belief', u'script', u'assumption', u'proposition', u'premise', u'structure', u'mindset', u'philosophy', u'fundamentally', u'culture']\n",
      "\n",
      "Cluster 4\n",
      "[u'Renewal', u'Home', u'Group', u'Book', u'Sway', u'Word', u'Tier', u'Band', u'Big', u'Translator', u'Quarter', u'V1', u'Mango', u'Fine', u'Crest', u'Personal', u'High', u'Bye', u'Tech', u'cetera', u'MOSKOWITZ', u'Best', u'Direction', u'Hub', u'Live', u'Key', u'Commercial', u'Prepared', u'\\xf2', u'Gross', u'Cross', u'Division', u'KASH', u'Master', u'Revolution', u'Active', u'Long', u'Professional', u'Plus', u'Core', u'Explorer', u'Fusion', u'E5', u'Window', u'RPS', u'Power', u'RBC', u'Noted', u'prem', u'War', u'Trail', u'Kin', u'Learning', u'Messenger', u'SANDEEP', u'Hyper', u'New', u'Kash', u'Delve', u'AD', u'Metro', u'Cash', u'ATOM', u'Perfect', u'Goods', u'Emerging', u'Surface', u'Unauthorized', u'Satya', u'FX', u'LIVE', u'Lens', u'Multi', u'Pre', u'Pro', u'Season', u'Universal', u'Horizon', u'BGC', u'Part', u'Strong', u'Lumia', u'Guarantee', u'Smart', u'Year', u'i', u'Reach', u'Threat', u'*', u'Volume', u'\\xe1']\n",
      "\n",
      "Cluster 5\n",
      "[u'each', u'different', u'differing', u'split', u'separately', u'particular', u'together', u'such', u'individually', u'multiple', u'those', u'these', u'same', u'mixed', u'certain', u'separate', u'all', u'distinct', u'shared', u'common', u'individual', u'various', u'similar', u'numerous', u'special', u'both', u'dual', u'other']\n",
      "\n",
      "Cluster 6\n",
      "[u'tablets', u'tablet']\n",
      "\n",
      "Cluster 7\n",
      "[u'incremental']\n",
      "\n",
      "Cluster 8\n",
      "[u'IVES', u'LIDDELL', u'CHIEF', u'MAGUIRE', u'OFFICER', u'GILLIS', u'SUH', u'PRITCHARD', u'INVESTOR', u'END', u'MCMILLAN', u'COLLIN', u'WINSLOW', u'ADAM', u'GENERAL', u'MACMILLAN', u'AT', u'MAYNARD', u'MANAGER', u'RELATIONS', u'HOLT', u'BUILD', u'PRICHARD', u'TIM']\n",
      "\n",
      "Cluster 9\n",
      "[u'companies', u'employees', u'workforce', u'corporate', u'manufacturers', u'corporates', u'organizations', u'Corporate', u'corporations', u'Fortune', u'professionals', u'Businesses', u'company', u'individuals', u'Enterprises', u'Companies', u'institutions', u'businesses', u'firm', u'vendors', u'Business', u'business', u'providers', u'industries', u'enterprises']\n"
     ]
    }
   ],
   "source": [
    "# Create a Word / Index dictionary, mapping each vocabulary word to a cluster number                                                                                            \n",
    "word_centroid_map = dict(zip( model.index2word, idx ))\n",
    "# For the first 10 clusters\n",
    "for cluster in xrange(0,10):\n",
    "    print \"\\nCluster %d\" % cluster    \n",
    "    # Find all of the words for that cluster number, and print them out\n",
    "    words = []\n",
    "    for i in xrange(0,len(word_centroid_map.values())):\n",
    "        if( word_centroid_map.values()[i] == cluster ):\n",
    "            words.append(word_centroid_map.keys()[i])\n",
    "    print words  \n"
   ]
  },
  {
   "cell_type": "code",
   "execution_count": 72,
   "metadata": {
    "collapsed": false
   },
   "outputs": [
    {
     "name": "stdout",
     "output_type": "stream",
     "text": [
      "Apple\n",
      "Microsoft\n",
      "Apple\n",
      "PCs\n",
      "Google\n"
     ]
    }
   ],
   "source": [
    "print model.most_similar(positive=['iOS', 'Dell'], negative=['Windows'])[0][0] # Dell - Windows + iOS = Apple\n",
    "print model.most_similar(positive=['Windows', 'Apple'], negative=['iOS'])[0][0] # Apple - iOS + Windows = Microsoft\n",
    "print model.most_similar(positive=['iPad', 'Microsoft'], negative=['Surface'])[0][0] # Microsoft - Surface + iPad = Apple\n",
    "print model.most_similar(positive=['Windows', 'iPad'], negative=['iOS'])[0][0] # iPad - iOS + Windows = PCs\n",
    "print model.most_similar(positive=['Android', 'Microsoft'], negative=['Windows'])[0][0] # Microsoft - Windows + Android = Google"
   ]
  },
  {
   "cell_type": "code",
   "execution_count": 59,
   "metadata": {
    "collapsed": false,
    "scrolled": false
   },
   "outputs": [
    {
     "data": {
      "text/plain": [
       "213652"
      ]
     },
     "execution_count": 59,
     "metadata": {},
     "output_type": "execute_result"
    }
   ],
   "source": [
    "from gensim.models.doc2vec import TaggedLineDocument\n",
    "\n",
    "sentences = TaggedLineDocument('datasets\\\\MSFT_Earning_Calls\\\\all_msft_earning_calls_punct') \n",
    "model = gensim.models.Doc2Vec(\n",
    "          dm=1,        # Distributed memory model of Paragraph vector (PV-DM)\n",
    "          size=300,    # dimensionality of the feature vectors\n",
    "          dm_mean=1,   # Use mean of contex word vectors\n",
    "          hs=0,        # No hierarchical sampling\n",
    "          window=10,   # Max distance of the predicted word and context words used for prediction within a document.\n",
    "          negative=20, # Negative sampling: how many “noise words” should be drawn \n",
    "          min_count=2, # ignore all words with total frequency lower than this. \n",
    "          workers=3    # worker threads to train the model\n",
    "        )\n",
    "model.build_vocab(sentences)\n",
    "model.intersect_word2vec_format('datasets\\word2vec\\\\GoogleNews-vectors-negative300.bin', binary=True)  # C binary format\n",
    "model.train(sentences)"
   ]
  },
  {
   "cell_type": "code",
   "execution_count": 73,
   "metadata": {
    "collapsed": false,
    "scrolled": false
   },
   "outputs": [
    {
     "name": "stdout",
     "output_type": "stream",
     "text": [
      "TARGET (4268): «RICK SHERLUND , Nomura : On the Windows and Windows Live Division , there was no real guidance for the year .»\n",
      "\n",
      "SIMILAR/DISSIMILAR DOCS PER MODEL Doc2Vec(dm/m,d300,n20,w10,mc2,t3):\n",
      "\n",
      "MOST 5196: «In the Microsoft Business Division , we expect business revenue to account for approximately 85 % of the division 's total , while consumer revenue should account for the remaining 15 % .» [score = 0.941]\n",
      "\n",
      "MEDIAN 5215: «Our OEM partners have started capitalizing on the new opportunities , delivering a wide range of new Windows hardware û from phones , to tablets , to new PCs .» [score = 0.845]\n",
      "\n",
      "LEAST 5435: «With that backdrop , let 's move on to Windows .» [score = -0.843]\n",
      "\n",
      "3957\n"
     ]
    }
   ],
   "source": [
    "doc_id = np.random.randint(model.docvecs.count)  # pick random doc, re-run cell for more examples\n",
    "\n",
    "sims = model.docvecs.most_similar(doc_id, topn=model.docvecs.count)  # get *all* similar documents\n",
    "\n",
    "print(u'TARGET (%d): «%s»\\n' % (doc_id, ' '.join([s for s in sentences if s[1][0]==doc_id][0][0])))\n",
    "print(u'SIMILAR/DISSIMILAR DOCS PER MODEL %s:\\n' % model)\n",
    "\n",
    "for label, index in [('MOST', 0), ('MEDIAN', len(sims)//2), ('LEAST', len(sims) - 1)]:\n",
    "    print(u'%s %d: «%s» [score = %.3f]\\n' % (label, \n",
    "                                             sims[index][0], \n",
    "                                             ' '.join([s for s in sentences if s[1][0]==sims[index][0]][0][0]),\n",
    "                                             sims[index][1]))\n",
    "    \n",
    "#print  model.infer_vector([s for s in sentences if s[1][0]==sims[index][0]][0][0]) # closest vector\n",
    "print len(model.syn0)"
   ]
  },
  {
   "cell_type": "code",
   "execution_count": 74,
   "metadata": {
    "collapsed": false,
    "scrolled": false
   },
   "outputs": [
    {
     "data": {
      "text/plain": [
       "[(u'Volkswagen', 0.5725679993629456),\n",
       " (u'Japan', 0.3600500524044037),\n",
       " (u'Samsung', 0.35791876912117004),\n",
       " (u'Japanese', 0.3435463607311249),\n",
       " (u'recall', 0.33637383580207825),\n",
       " (u'accelerator', 0.33497750759124756),\n",
       " (u'Dell', 0.3327538073062897),\n",
       " (u'Boeing', 0.31118008494377136),\n",
       " (u'Sprint', 0.30647531151771545),\n",
       " (u'hybrid', 0.30044567584991455)]"
      ]
     },
     "execution_count": 74,
     "metadata": {},
     "output_type": "execute_result"
    }
   ],
   "source": [
    "#import logging\n",
    "#logging.basicConfig(format='%(asctime)s : %(levelname)s : %(message)s', level=logging.INFO)\n",
    "#model.accuracy('datasets\\\\word2vec\\\\questions-words.txt')\n",
    "model.most_similar('Toyota')"
   ]
  },
  {
   "cell_type": "code",
   "execution_count": null,
   "metadata": {
    "collapsed": true,
    "scrolled": false
   },
   "outputs": [],
   "source": [
    "for doc_id in xrange(model.docvecs.count):\n",
    "    sims = model.docvecs.most_similar(doc_id, topn=model.docvecs.count)  # get *all* similar documents\n",
    "    \n",
    "    if sims[0][1] > 0.9:\n",
    "    \n",
    "        print(u'TARGET (%d): «%s»\\n' % (doc_id, ' '.join([s for s in sentences if s[1][0]==doc_id][0][0])))\n",
    "        print(u'SIMILAR/DISSIMILAR DOCS PER MODEL %s:\\n' % model)\n",
    "\n",
    "        for label, index in [('MOST', 0), ('MEDIAN', len(sims)//2), ('LEAST', len(sims) - 1)]:\n",
    "            print(u'%s %d: «%s» [score = %.3f]\\n' % (label, \n",
    "                                                     sims[index][0], \n",
    "                                                     ' '.join([s for s in sentences if s[1][0]==sims[index][0]][0][0]),\n",
    "                                                     sims[index][1]))"
   ]
  }
 ],
 "metadata": {
  "kernelspec": {
   "display_name": "Python 2",
   "language": "python",
   "name": "python2"
  },
  "language_info": {
   "codemirror_mode": {
    "name": "ipython",
    "version": 2
   },
   "file_extension": ".py",
   "mimetype": "text/x-python",
   "name": "python",
   "nbconvert_exporter": "python",
   "pygments_lexer": "ipython2",
   "version": "2.7.10"
  }
 },
 "nbformat": 4,
 "nbformat_minor": 0
}
